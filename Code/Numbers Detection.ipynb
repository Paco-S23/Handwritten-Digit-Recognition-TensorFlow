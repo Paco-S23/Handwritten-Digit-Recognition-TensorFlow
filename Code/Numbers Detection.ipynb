{
 "cells": [
  {
   "cell_type": "code",
   "id": "initial_id",
   "metadata": {
    "collapsed": true,
    "ExecuteTime": {
     "end_time": "2025-10-03T15:24:36.201835Z",
     "start_time": "2025-10-03T15:24:36.198640Z"
    }
   },
   "source": [
    "import tensorflow as tf\n",
    "import matplotlib.pyplot as plt"
   ],
   "outputs": [],
   "execution_count": 37
  },
  {
   "metadata": {
    "ExecuteTime": {
     "end_time": "2025-10-03T15:24:36.454381Z",
     "start_time": "2025-10-03T15:24:36.216479Z"
    }
   },
   "cell_type": "code",
   "source": [
    "# Cargar el dataset MNIST\n",
    "(x_train, y_train), (x_test, y_test) = tf.keras.datasets.mnist.load_data()\n",
    "\n",
    "print(\"Tamaño del set de entrenamiento:\", x_train.shape)\n",
    "print(\"Tamaño del set de prueba:\", x_test.shape)\n",
    "\n",
    "# Mostrar un ejemplo\n",
    "plt.imshow(x_train[8759], cmap=\"gray\")\n",
    "plt.title(f\"Etiqueta: {y_train[8759]}\")\n",
    "plt.show()"
   ],
   "id": "202c60f69c84dd43",
   "outputs": [
    {
     "name": "stdout",
     "output_type": "stream",
     "text": [
      "Tamaño del set de entrenamiento: (60000, 28, 28)\n",
      "Tamaño del set de prueba: (10000, 28, 28)\n"
     ]
    },
    {
     "data": {
      "text/plain": [
       "<Figure size 640x480 with 1 Axes>"
      ],
      "image/png": "[encoded data removed]"
     },
     "metadata": {},
     "output_type": "display_data",
     "jetTransient": {
      "display_id": null
     }
    }
   ],
   "execution_count": 38
  },
  {
   "metadata": {
    "ExecuteTime": {
     "end_time": "2025-10-03T15:24:36.566241Z",
     "start_time": "2025-10-03T15:24:36.460725Z"
    }
   },
   "cell_type": "code",
   "source": [
    "x_train = x_train / 255.0\n",
    "x_test = x_test / 255.0"
   ],
   "id": "c6b39e1cdab4e57e",
   "outputs": [],
   "execution_count": 39
  },
  {
   "metadata": {
    "ExecuteTime": {
     "end_time": "2025-10-03T15:24:36.591609Z",
     "start_time": "2025-10-03T15:24:36.571829Z"
    }
   },
   "cell_type": "code",
   "source": [
    "model = tf.keras.models.Sequential([\n",
    "    tf.keras.Input(shape=(28, 28)),                  # capa de entrada\n",
    "    tf.keras.layers.Flatten(),                       # aplana la imagen\n",
    "    tf.keras.layers.Dense(128, activation='relu'),   # capa oculta\n",
    "    tf.keras.layers.Dense(10, activation='softmax')  # salida\n",
    "])\n",
    "\n",
    "# Compilar el modelo\n",
    "model.compile(optimizer='adam',\n",
    "              loss='sparse_categorical_crossentropy',\n",
    "              metrics=['accuracy'])"
   ],
   "id": "cb7cb8eb54e57f4e",
   "outputs": [],
   "execution_count": 40
  },
  {
   "metadata": {
    "ExecuteTime": {
     "end_time": "2025-10-03T15:24:55.223623Z",
     "start_time": "2025-10-03T15:24:36.598990Z"
    }
   },
   "cell_type": "code",
   "source": "history = model.fit(x_train, y_train, epochs=5, validation_data=(x_test, y_test))",
   "id": "1e8ed5f8f78705a0",
   "outputs": [
    {
     "name": "stdout",
     "output_type": "stream",
     "text": [
      "Epoch 1/5\n",
      "\u001B[1m1875/1875\u001B[0m \u001B[32m━━━━━━━━━━━━━━━━━━━━\u001B[0m\u001B[37m\u001B[0m \u001B[1m4s\u001B[0m 2ms/step - accuracy: 0.9259 - loss: 0.2582 - val_accuracy: 0.9531 - val_loss: 0.1505\n",
      "Epoch 2/5\n",
      "\u001B[1m1875/1875\u001B[0m \u001B[32m━━━━━━━━━━━━━━━━━━━━\u001B[0m\u001B[37m\u001B[0m \u001B[1m4s\u001B[0m 2ms/step - accuracy: 0.9653 - loss: 0.1169 - val_accuracy: 0.9715 - val_loss: 0.0918\n",
      "Epoch 3/5\n",
      "\u001B[1m1875/1875\u001B[0m \u001B[32m━━━━━━━━━━━━━━━━━━━━\u001B[0m\u001B[37m\u001B[0m \u001B[1m4s\u001B[0m 2ms/step - accuracy: 0.9759 - loss: 0.0798 - val_accuracy: 0.9716 - val_loss: 0.0886\n",
      "Epoch 4/5\n",
      "\u001B[1m1875/1875\u001B[0m \u001B[32m━━━━━━━━━━━━━━━━━━━━\u001B[0m\u001B[37m\u001B[0m \u001B[1m4s\u001B[0m 2ms/step - accuracy: 0.9816 - loss: 0.0583 - val_accuracy: 0.9737 - val_loss: 0.0868\n",
      "Epoch 5/5\n",
      "\u001B[1m1875/1875\u001B[0m \u001B[32m━━━━━━━━━━━━━━━━━━━━\u001B[0m\u001B[37m\u001B[0m \u001B[1m4s\u001B[0m 2ms/step - accuracy: 0.9857 - loss: 0.0454 - val_accuracy: 0.9760 - val_loss: 0.0806\n"
     ]
    }
   ],
   "execution_count": 41
  },
  {
   "metadata": {
    "ExecuteTime": {
     "end_time": "2025-10-03T15:24:55.675315Z",
     "start_time": "2025-10-03T15:24:55.247325Z"
    }
   },
   "cell_type": "code",
   "source": [
    "test_loss, test_acc = model.evaluate(x_test, y_test, verbose=2)\n",
    "print(\"\\nPrecisión en datos de prueba:\", test_acc)"
   ],
   "id": "687e41b3953a538d",
   "outputs": [
    {
     "name": "stdout",
     "output_type": "stream",
     "text": [
      "313/313 - 0s - 1ms/step - accuracy: 0.9760 - loss: 0.0806\n",
      "\n",
      "Precisión en datos de prueba: 0.9760000109672546\n"
     ]
    }
   ],
   "execution_count": 42
  },
  {
   "metadata": {
    "ExecuteTime": {
     "end_time": "2025-10-03T15:24:55.805742Z",
     "start_time": "2025-10-03T15:24:55.679942Z"
    }
   },
   "cell_type": "code",
   "source": [
    "import numpy as np\n",
    "\n",
    "# Elegimos una imagen de prueba\n",
    "img = x_test[1000]\n",
    "plt.imshow(img, cmap=\"gray\")\n",
    "plt.show()\n",
    "\n",
    "# Predicción\n",
    "img = np.expand_dims(img, axis=0)  # expandir dimensiones para que sea compatible\n",
    "prediction = model.predict(img)\n",
    "print(\"Predicción:\", prediction.argmax())"
   ],
   "id": "9b7e27aa348ced46",
   "outputs": [
    {
     "data": {
      "text/plain": [
       "<Figure size 640x480 with 1 Axes>"
      ],
      "image/png": "[encoded data removed]"
     },
     "metadata": {},
     "output_type": "display_data",
     "jetTransient": {
      "display_id": null
     }
    },
    {
     "name": "stdout",
     "output_type": "stream",
     "text": [
      "WARNING:tensorflow:5 out of the last 8 calls to <function TensorFlowTrainer.make_predict_function.<locals>.one_step_on_data_distributed at 0x00000224741959E0> triggered tf.function retracing. Tracing is expensive and the excessive number of tracings could be due to (1) creating @tf.function repeatedly in a loop, (2) passing tensors with different shapes, (3) passing Python objects instead of tensors. For (1), please define your @tf.function outside of the loop. For (2), @tf.function has reduce_retracing=True option that can avoid unnecessary retracing. For (3), please refer to https://www.tensorflow.org/guide/function#controlling_retracing and https://www.tensorflow.org/api_docs/python/tf/function for  more details.\n",
      "\u001B[1m1/1\u001B[0m \u001B[32m━━━━━━━━━━━━━━━━━━━━\u001B[0m\u001B[37m\u001B[0m \u001B[1m0s\u001B[0m 46ms/step\n",
      "Predicción: 9\n"
     ]
    }
   ],
   "execution_count": 43
  }
 ],
 "metadata": {
  "kernelspec": {
   "display_name": "Python 3",
   "language": "python",
   "name": "python3"
  },
  "language_info": {
   "codemirror_mode": {
    "name": "ipython",
    "version": 2
   },
   "file_extension": ".py",
   "mimetype": "text/x-python",
   "name": "python",
   "nbconvert_exporter": "python",
   "pygments_lexer": "ipython2",
   "version": "2.7.6"
  }
 },
 "nbformat": 4,
 "nbformat_minor": 5
}
